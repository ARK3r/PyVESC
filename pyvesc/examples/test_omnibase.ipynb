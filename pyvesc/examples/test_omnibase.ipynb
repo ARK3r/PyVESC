{
 "cells": [
  {
   "cell_type": "code",
   "execution_count": null,
   "id": "c292d887",
   "metadata": {},
   "outputs": [],
   "source": [
    "from pyvesc.VESC import MultiVESC"
   ]
  },
  {
   "cell_type": "code",
   "execution_count": null,
   "id": "b077d705",
   "metadata": {},
   "outputs": [],
   "source": [
    "class MobileBase:\n",
    "    def __init__(\n",
    "        self, \n",
    "        serial_port='/dev/ttyACM0',\n",
    "        left_wheel_id=24,\n",
    "        right_wheel_id=72,\n",
    "        back_wheel_id=None, \n",
    "        ) -> None:\n",
    "\n",
    "        params = [\n",
    "            {'can_id': left_wheel_id, 'has_sensor': True, 'start_heartbeat': True},\n",
    "            {'can_id': right_wheel_id, 'has_sensor': True, 'start_heartbeat': True},\n",
    "            {'can_id': back_wheel_id, 'has_sensor': True, 'start_heartbeat': True},\n",
    "        ]\n",
    "        self._multi_vesc = MultiVESC(serial_port=serial_port, vescs_params=params)\n",
    "\n",
    "        self.left_wheel, self.right_wheel, self.back_wheel = self._multi_vesc.controllers"
   ]
  },
  {
   "cell_type": "code",
   "execution_count": null,
   "id": "4d4c01b8",
   "metadata": {},
   "outputs": [],
   "source": [
    "omnibase = MobileBase()"
   ]
  },
  {
   "cell_type": "markdown",
   "id": "5ebf69e5",
   "metadata": {},
   "source": [
    "_____________"
   ]
  },
  {
   "cell_type": "markdown",
   "id": "940333ab",
   "metadata": {},
   "source": [
    "RPM and Duty Cycle testing"
   ]
  },
  {
   "cell_type": "code",
   "execution_count": null,
   "id": "7531c2ae",
   "metadata": {},
   "outputs": [],
   "source": [
    "duty = 0\n",
    "\n",
    "omnibase.back_wheel.set_duty_cycle(duty)\n",
    "#omnibase.left_wheel.set_duty_cycle(duty)\n",
    "#omnibase.right_wheel.set_duty_cycle(duty)"
   ]
  },
  {
   "cell_type": "code",
   "execution_count": null,
   "id": "9c64fc2e",
   "metadata": {},
   "outputs": [],
   "source": [
    "omnibase.back_wheel.set_rpm(0)"
   ]
  },
  {
   "cell_type": "code",
   "execution_count": null,
   "id": "7e391d49",
   "metadata": {},
   "outputs": [],
   "source": [
    "rpm = 0\n",
    "\n",
    "omnibase.back_wheel.set_rpm(rpm)\n",
    "omnibase.left_wheel.set_rpm(rpm)\n",
    "omnibase.right_wheel.set_rpm(rpm)"
   ]
  },
  {
   "cell_type": "code",
   "execution_count": null,
   "id": "697130d7",
   "metadata": {},
   "outputs": [],
   "source": [
    "omnibase.back_wheel.set_rpm(100)"
   ]
  },
  {
   "cell_type": "code",
   "execution_count": null,
   "id": "a9409432",
   "metadata": {},
   "outputs": [],
   "source": [
    "omnibase.back_wheel.set_rpm(0)"
   ]
  },
  {
   "cell_type": "markdown",
   "id": "5cfafa76",
   "metadata": {},
   "source": [
    "With Joysticks"
   ]
  },
  {
   "cell_type": "code",
   "execution_count": null,
   "id": "cbd3bfb4",
   "metadata": {},
   "outputs": [],
   "source": [
    "import pygame\n",
    "import time\n",
    "import numpy as np"
   ]
  },
  {
   "cell_type": "code",
   "execution_count": null,
   "id": "3f3da974",
   "metadata": {},
   "outputs": [],
   "source": [
    "pygame.init()\n",
    "pygame.joystick.init()\n",
    "\n",
    "J = pygame.joystick.Joystick(0)"
   ]
  },
  {
   "cell_type": "markdown",
   "id": "b02aa986",
   "metadata": {},
   "source": [
    "Close Loop"
   ]
  },
  {
   "cell_type": "code",
   "execution_count": null,
   "id": "eb4cbc5f",
   "metadata": {},
   "outputs": [],
   "source": [
    " def speeds_from_joystick(joystick):\n",
    "        speed_max_t = 500\n",
    "        speed_max_r = 300\n",
    "        \n",
    "        y = -joystick.get_axis(1) * speed_max_t\n",
    "        x = joystick.get_axis(0) * speed_max_t\n",
    "        rot = -joystick.get_axis(3) * speed_max_r\n",
    "        \n",
    "        speed_back = x + rot\n",
    "        speed_right = (x*np.cos(120*np.pi/180)) + (y*np.sin(120*np.pi/180)) + rot\n",
    "        speed_left = (x*np.cos(240*np.pi/180)) + (y*np.sin(240*np.pi/180)) + rot\n",
    "    \n",
    "        return int(speed_back), int(speed_right), int(speed_left)"
   ]
  },
  {
   "cell_type": "code",
   "execution_count": null,
   "id": "4f32b4aa",
   "metadata": {},
   "outputs": [],
   "source": [
    "while True:\n",
    "    for event in pygame.event.get():\n",
    "        pass\n",
    "\n",
    "    time.sleep(0.1)\n",
    "    omnibase.back_wheel.set_rpm(speeds_from_joystick(J)[0])\n",
    "    omnibase.left_wheel.set_rpm(speeds_from_joystick(J)[2])\n",
    "    omnibase.right_wheel.set_rpm(speeds_from_joystick(J)[1])"
   ]
  },
  {
   "cell_type": "markdown",
   "id": "473555af",
   "metadata": {},
   "source": [
    "Open Loop"
   ]
  },
  {
   "cell_type": "markdown",
   "id": "6c1fbddc",
   "metadata": {},
   "source": [
    "Duty Cycle"
   ]
  },
  {
   "cell_type": "code",
   "execution_count": null,
   "id": "5d8c44ed",
   "metadata": {},
   "outputs": [],
   "source": [
    " def cycle_from_joystick(joystick):\n",
    "        cycle_max_t = 0.2\n",
    "        cycle_max_r = 0.1\n",
    "        \n",
    "        y = -joystick.get_axis(1) * cycle_max_t\n",
    "        x = joystick.get_axis(0) * cycle_max_t\n",
    "        rot = -joystick.get_axis(3) * cycle_max_r\n",
    "        \n",
    "        cycle_back = x + rot\n",
    "        cycle_right = (x*np.cos(120*np.pi/180)) + (y*np.sin(120*np.pi/180)) + rot\n",
    "        cycle_left = (x*np.cos(240*np.pi/180)) + (y*np.sin(240*np.pi/180)) + rot\n",
    "        \n",
    "        #print(cycle_back, cycle_left, cycle_right)\n",
    "    \n",
    "        return (cycle_back), (cycle_right), (cycle_left)"
   ]
  },
  {
   "cell_type": "code",
   "execution_count": null,
   "id": "d530c399",
   "metadata": {},
   "outputs": [],
   "source": [
    "while True:\n",
    "    for event in pygame.event.get():\n",
    "        pass\n",
    "\n",
    "    time.sleep(0.1)\n",
    "    omnibase.back_wheel.set_duty_cycle(cycle_from_joystick(J)[0])\n",
    "    omnibase.left_wheel.set_duty_cycle(cycle_from_joystick(J)[2])\n",
    "    omnibase.right_wheel.set_duty_cycle(cycle_from_joystick(J)[1])"
   ]
  },
  {
   "cell_type": "markdown",
   "id": "f2d442eb",
   "metadata": {},
   "source": [
    "Current"
   ]
  },
  {
   "cell_type": "code",
   "execution_count": null,
   "id": "cbfb908d",
   "metadata": {},
   "outputs": [],
   "source": [
    " def current_from_joystick(joystick):\n",
    "        current_max_t = 1\n",
    "        current_max_r = 0.5\n",
    "        \n",
    "        y = -joystick.get_axis(1) * current_max_t\n",
    "        x = joystick.get_axis(0) * current_max_t\n",
    "        rot = -joystick.get_axis(3) * current_max_r\n",
    "        \n",
    "        current_back = x + rot\n",
    "        current_right = (x*np.cos(120*np.pi/180)) + (y*np.sin(120*np.pi/180)) + rot\n",
    "        current_left = (x*np.cos(240*np.pi/180)) + (y*np.sin(240*np.pi/180)) + rot\n",
    "        #print(cycle_back, cycle_left, cycle_right)\n",
    "    \n",
    "        return (current_back), (current_right), (current_left)"
   ]
  },
  {
   "cell_type": "code",
   "execution_count": null,
   "id": "1977f44b",
   "metadata": {},
   "outputs": [],
   "source": [
    "while True:\n",
    "    for event in pygame.event.get():\n",
    "        pass\n",
    "\n",
    "    time.sleep(0.1)\n",
    "    omnibase.back_wheel.set_current(current_from_joystick(J)[0])\n",
    "    omnibase.left_wheel.set_current(current_from_joystick(J)[2])\n",
    "    omnibase.right_wheel.set_current(current_from_joystick(J)[1])"
   ]
  },
  {
   "cell_type": "code",
   "execution_count": null,
   "id": "51fa70fa",
   "metadata": {},
   "outputs": [],
   "source": []
  }
 ],
 "metadata": {
  "kernelspec": {
   "display_name": "Python 3 (ipykernel)",
   "language": "python",
   "name": "python3"
  },
  "language_info": {
   "codemirror_mode": {
    "name": "ipython",
    "version": 3
   },
   "file_extension": ".py",
   "mimetype": "text/x-python",
   "name": "python",
   "nbconvert_exporter": "python",
   "pygments_lexer": "ipython3",
   "version": "3.8.10"
  }
 },
 "nbformat": 4,
 "nbformat_minor": 5
}
